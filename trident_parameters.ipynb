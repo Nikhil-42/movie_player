{
 "cells": [
  {
   "cell_type": "code",
   "execution_count": 70,
   "metadata": {},
   "outputs": [
    {
     "data": {
      "application/vnd.jupyter.widget-view+json": {
       "model_id": "84ea8c59867e45f985c2b2d725363f60",
       "version_major": 2,
       "version_minor": 0
      },
      "text/plain": [
       "VBox(children=(Dropdown(description='Bar:', options=('TRAVERSAL', 'HIGH', 'MID', 'LOW'), style=DescriptionStyl…"
      ]
     },
     "metadata": {},
     "output_type": "display_data"
    }
   ],
   "source": [
    "# Set simulation parameters\n",
    "import ipywidgets as widgets\n",
    "from IPython.core.display import HTML\n",
    "\n",
    "style = {'description_width': '50px', 'min_width': '1000px'}\n",
    "\n",
    "bar_widget = widgets.Dropdown(\n",
    "    description='Bar:', value='TRAVERSAL', options=['TRAVERSAL', 'HIGH', 'MID', 'LOW'], style=style)\n",
    "robot_mass_widget = widgets.FloatSlider(\n",
    "    description='Robot Mass (lbs):', value=100, min=25, max=125, style=style)\n",
    "robot_suspended_height_widget = widgets.FloatSlider(\n",
    "    description='Robot Suspended Height (in.):', value=60.0, min=0, max=66.0, style=style)\n",
    "\n",
    "trident_mass_widget = widgets.FloatSlider(\n",
    "    description='Trident Mass (lbs):', value=10, min=0, max=50, style=style)\n",
    "trident_height_widget = widgets.FloatSlider(\n",
    "    description='Trident Height (in.):', value=66.0, min=0, max=66.0, style=style)\n",
    "engage_overlap_widget = widgets.FloatSlider(\n",
    "    description='Engage Overlap (in.):', value=6.0, min=1.75, max=12.0, style=style)\n",
    "\n",
    "trident_robot_spring_constant_widget = widgets.FloatSlider(\n",
    "    description='Spring Constant (lbsf/in.):', value=10, min=0, max=1000, style=style)\n",
    "\n",
    "\n",
    "BAR_HEIGHTS = {\n",
    "    'TRAVERSAL': 7.0*12 + 7.0,\n",
    "    'HIGH': 6.0*12 + 3.625,\n",
    "    'MID': 5.0*12 + 0.25,\n",
    "    'LOW': 4.0*12 + 0.75,\n",
    "}\n",
    "\n",
    "G = 32.1740*12\n",
    "\n",
    "interface_box = widgets.VBox((\n",
    "    bar_widget,\n",
    "    robot_mass_widget,\n",
    "    robot_suspended_height_widget,\n",
    "    trident_mass_widget,\n",
    "    trident_height_widget,\n",
    "    engage_overlap_widget,\n",
    "    trident_robot_spring_constant_widget,\n",
    "))\n",
    "\n",
    "\n",
    "display(interface_box)"
   ]
  },
  {
   "cell_type": "code",
   "execution_count": 71,
   "metadata": {},
   "outputs": [],
   "source": [
    "def simulation_solver(bar, robot_mass, robot_suspended_height, trident_mass, trident_height, engage_overlap, trident_robot_spring_constant, dt=0.001, simulation_record=[]):\n",
    "    t = 0\n",
    "    robot_y = robot_suspended_height\n",
    "    trident_y = trident_height\n",
    "    min_robot_y = BAR_HEIGHTS[bar] + engage_overlap - trident_height\n",
    "\n",
    "    robot_velocity = 0\n",
    "    robot_acceleration = -G - (trident_robot_spring_constant * (robot_y - (trident_y - trident_height))  / robot_mass)\n",
    "    trident_velocity = 0\n",
    "    trident_acceleration =  trident_robot_spring_constant * (robot_y - (trident_y - trident_height)) / trident_mass - G\n",
    "\n",
    "    trident_target_height = BAR_HEIGHTS[bar] + engage_overlap\n",
    "\n",
    "    while trident_y - trident_height < robot_y and robot_y > min_robot_y:\n",
    "        simulation_record.append({\n",
    "            't': t,\n",
    "            'trident_height': trident_y,\n",
    "            'trident_velocity': trident_velocity,\n",
    "            'trident_acceleration': trident_acceleration,\n",
    "            'robot_height': robot_y,\n",
    "            'robot_velocity': robot_velocity,\n",
    "            'robot_acceleration': robot_acceleration,\n",
    "        })\n",
    "        \n",
    "        new_trident_acceleration = trident_robot_spring_constant * (robot_y - (trident_y - trident_height)) / trident_mass - G\n",
    "        d_trident_velocity = dt * (trident_acceleration + new_trident_acceleration) / 2\n",
    "        d_trident_y = dt * (trident_velocity + d_trident_velocity / 2)\n",
    "\n",
    "        new_robot_acceleration = -G - (trident_robot_spring_constant * (robot_y - (trident_y - trident_height))  / robot_mass)\n",
    "        d_robot_velocity = dt * (robot_acceleration + new_robot_acceleration) / 2\n",
    "        d_robot_y = dt * (robot_velocity + d_robot_velocity / 2)\n",
    "\n",
    "        t += dt\n",
    "        trident_acceleration = new_trident_acceleration\n",
    "        trident_velocity += d_trident_velocity\n",
    "        trident_y += d_trident_y\n",
    "        robot_acceleration = new_robot_acceleration\n",
    "        robot_velocity += d_robot_velocity\n",
    "        robot_y += d_robot_y\n",
    "    \n",
    "    print(f'Fall Distance                   : {robot_suspended_height - robot_y:.4f} in.')\n",
    "    print(f'Fall Time                       : {t:.4f}s')\n",
    "\n",
    "    print(f'Trident Max Height              : {trident_y:.4f} in.')\n",
    "    print(f'Trident Target Height (in.)     : {trident_target_height:.4f} in.')\n",
    "\n",
    "    passed = trident_y > trident_target_height and trident_height < BAR_HEIGHTS[bar]\n",
    "    print(f'Configuration will {\"\" if passed else \"fail to \"}reach the {bar} rung.')\n",
    "    return True\n"
   ]
  },
  {
   "cell_type": "code",
   "execution_count": 72,
   "metadata": {},
   "outputs": [
    {
     "name": "stdout",
     "output_type": "stream",
     "text": [
      "--------------------------------------------------------\n",
      "Fall Distance                   : 29.0527 in.\n",
      "Fall Time                       : 0.3850s\n",
      "Trident Max Height              : 41.7733 in.\n",
      "Trident Target Height (in.)     : 97.0000 in.\n",
      "Configuration will fail to reach the TRAVERSAL rung.\n",
      "--------------------------------------------------------\n",
      "Fall Distance                   : 44.4050 in.\n",
      "Fall Time                       : 0.4760s\n",
      "Trident Max Height              : 28.9193 in.\n",
      "Trident Target Height (in.)     : 81.6250 in.\n",
      "Configuration will fail to reach the HIGH rung.\n",
      "--------------------------------------------------------\n",
      "Fall Distance                   : 59.9268 in.\n",
      "Fall Time                       : 0.5530s\n",
      "Trident Max Height              : 15.8872 in.\n",
      "Trident Target Height (in.)     : 66.2500 in.\n",
      "Configuration will fail to reach the MID rung.\n",
      "--------------------------------------------------------\n",
      "Fall Distance                   : 71.4841 in.\n",
      "Fall Time                       : 0.6040s\n",
      "Trident Max Height              : 6.1601 in.\n",
      "Trident Target Height (in.)     : 54.7500 in.\n",
      "Configuration will fail to reach the LOW rung.\n",
      "--------------------------------------------------------\n"
     ]
    }
   ],
   "source": [
    "for bar_name in BAR_HEIGHTS:\n",
    "    print('--------------------------------------------------------')\n",
    "    simulation_solver(bar_name, robot_mass=robot_mass_widget.value, robot_suspended_height=robot_suspended_height_widget.value, trident_mass=trident_mass_widget.value, trident_height=trident_height_widget.value, engage_overlap=engage_overlap_widget.value, trident_robot_spring_constant=trident_robot_spring_constant_widget.value)\n",
    "print('--------------------------------------------------------')"
   ]
  },
  {
   "cell_type": "code",
   "execution_count": 73,
   "metadata": {},
   "outputs": [],
   "source": [
    "from matplotlib import pyplot as plt\n",
    "%matplotlib inline\n",
    "\n",
    "def plot_simulation(bar, **kwargs):\n",
    "    simulation_record = []\n",
    "    simulation_solver(bar, simulation_record=simulation_record, **kwargs)\n",
    "\n",
    "    times = [frame['t'] for frame in simulation_record]\n",
    "    trident_heights = [frame['trident_height'] for frame in simulation_record]\n",
    "    trident_velocities = [frame['trident_velocity'] for frame in simulation_record]\n",
    "    trident_accelerations = [frame['trident_acceleration'] for frame in simulation_record]\n",
    "    robot_heights = [frame['robot_height'] for frame in simulation_record]\n",
    "\n",
    "\n",
    "    plt.plot([times[i//2] for i in range(2*len(times))], [trident_heights[i//2] - (i%2) * kwargs['trident_height'] for i in range(2*len(trident_heights))], color='cornflowerblue')\n",
    "    plt.plot(times, trident_velocities, color='blue')\n",
    "    plt.plot(times, trident_accelerations, color='cyan')\n",
    "    plt.plot(times, robot_heights, color='darkorange')\n",
    "    plt.plot(times, [BAR_HEIGHTS[bar]] * len(times), color='darkgray')\n",
    "    plt.plot(times, [BAR_HEIGHTS[bar] + kwargs['engage_overlap'] - kwargs['trident_height']] * len(times), color='red')\n",
    "    plt.ylim([0, 108])\n",
    "    plt.show()"
   ]
  },
  {
   "cell_type": "code",
   "execution_count": 74,
   "metadata": {},
   "outputs": [
    {
     "data": {
      "application/vnd.jupyter.widget-view+json": {
       "model_id": "1c027a28165646a6ac70402344726788",
       "version_major": 2,
       "version_minor": 0
      },
      "text/plain": [
       "interactive(children=(Dropdown(description='Bar:', options=('TRAVERSAL', 'HIGH', 'MID', 'LOW'), style=Descript…"
      ]
     },
     "metadata": {},
     "output_type": "display_data"
    }
   ],
   "source": [
    "widgets.interactive(plot_simulation, dt=0.001, bar=bar_widget, robot_mass=robot_mass_widget, robot_suspended_height=robot_suspended_height_widget, trident_mass=trident_mass_widget, trident_height=trident_height_widget, engage_overlap=engage_overlap_widget, trident_robot_spring_constant=trident_robot_spring_constant_widget)"
   ]
  },
  {
   "cell_type": "code",
   "execution_count": 37,
   "metadata": {},
   "outputs": [],
   "source": [
    "# # Calculate the interaction kinematically\n",
    "# def kinematic_solver(bar: str, robot_mass, robot_suspended_height, trident_mass, trident_height, engage_overlap, trident_robot_force):\n",
    "\n",
    "#     min_robot_height = BAR_HEIGHTS[bar] + engage_overlap - trident_height\n",
    "#     robot_fall_displacement =  min_robot_height - robot_suspended_height\n",
    "#     # h = a/2 * t^2\n",
    "#     # t = sqrt(2h/a)\n",
    "#     robot_net_acceleration = -G - trident_robot_force / robot_mass\n",
    "#     t = (2 * robot_fall_displacement / robot_net_acceleration)**0.5\n",
    "#     print(f'Fall Distance               : {robot_fall_displacement:.4f} in.')\n",
    "#     print(f'Fall Time                   : {t:.4f}s')\n",
    "\n",
    "#     # h = a/2 * t^2 + h_0\n",
    "#     trident_net_acceleration = trident_robot_force / trident_mass - G\n",
    "#     trident_end_height = trident_net_acceleration / 2 * t*t + trident_height\n",
    "#     trident_target_height = BAR_HEIGHTS[bar] + engage_overlap\n",
    "#     print(f'Trident Max Height          : {trident_end_height:.4f} in.')\n",
    "#     print(f'Trident Target Height       : {trident_target_height:.4f} in.')\n",
    "\n",
    "#     passed = trident_end_height > trident_target_height and trident_height < BAR_HEIGHTS[bar]\n",
    "#     print(f'Configuration will {\"\" if passed else \"fail to \"}reach the {bar} rung.')\n",
    "\n",
    "#     return passed\n",
    "\n",
    "# widgets.interactive(kinematic_solver, bar=bar, robot_mass=robot_mass, robot_suspended_height=robot_suspended_height, trident_mass=trident_mass, trident_height=trident_height, engage_overlap=engage_overlap, trident_robot_spring_constant=trident_robot_spring_constant)"
   ]
  }
 ],
 "metadata": {
  "interpreter": {
   "hash": "e7370f93d1d0cde622a1f8e1c04877d8463912d04d973331ad4851f04de6915a"
  },
  "kernelspec": {
   "display_name": "Python 3.10.1 64-bit",
   "language": "python",
   "name": "python3"
  },
  "language_info": {
   "codemirror_mode": {
    "name": "ipython",
    "version": 3
   },
   "file_extension": ".py",
   "mimetype": "text/x-python",
   "name": "python",
   "nbconvert_exporter": "python",
   "pygments_lexer": "ipython3",
   "version": "3.10.1"
  },
  "orig_nbformat": 4
 },
 "nbformat": 4,
 "nbformat_minor": 2
}
